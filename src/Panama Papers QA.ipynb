{
 "cells": [
  {
   "cell_type": "code",
   "execution_count": 1,
   "metadata": {},
   "outputs": [],
   "source": [
    "import spacy\n",
    "from spacy import displacy\n",
    "from collections import Counter\n",
    "from py2neo import *\n",
    "import matplotlib.pyplot as plt\n",
    "import en_core_web_sm\n",
    "nlp = en_core_web_sm.load()\n",
    "from spacy.lang.en.stop_words import STOP_WORDS"
   ]
  },
  {
   "cell_type": "markdown",
   "metadata": {},
   "source": [
    "###### 1. Who are the entities and officers in US?\n",
    "###### 3. Which countries have the most addresses?\n",
    "###### 4. Which jurisdictions is BOSHEN connected to?\n",
    "###### 5. How are X and Y connected/related?\n",
    "###### 6. Which jurisdictions has the least/most entities? / Most popular jurisdictions\n",
    "###### 7. Which locations are in/come under X jurisdiction?\n",
    "###### 8. Under which jurisdiction is location X?\n",
    "###### 9. Most influential/important/ entities in the graph?\n",
    "###### 10. Which officers have the same addresses?\n",
    "###### 10. Which officers in X region have the same addresses?"
   ]
  },
  {
   "cell_type": "code",
   "execution_count": 2,
   "metadata": {},
   "outputs": [],
   "source": [
    "def connect():\n",
    "    global graph\n",
    "    graph = Graph(\"bolt://localhost:7687\", auth = (\"neo4j\", \"soham\"))\n",
    "    tx = graph.begin()\n",
    "    print('Connected...')"
   ]
  },
  {
   "cell_type": "code",
   "execution_count": 3,
   "metadata": {},
   "outputs": [
    {
     "name": "stdout",
     "output_type": "stream",
     "text": [
      "Connected...\n"
     ]
    }
   ],
   "source": [
    "connect()"
   ]
  },
  {
   "cell_type": "code",
   "execution_count": 4,
   "metadata": {},
   "outputs": [],
   "source": [
    "def ask_question():\n",
    "    global question\n",
    "    question = input(\"INPUT: \")\n",
    "    print(\"\\n\")\n",
    "    tag_question()\n",
    "    "
   ]
  },
  {
   "cell_type": "code",
   "execution_count": 5,
   "metadata": {},
   "outputs": [],
   "source": [
    "def tag_question():\n",
    "    global tokens,ner\n",
    "    doc = nlp(question)\n",
    "    tokens = [token.text for token in doc]\n",
    "    pos = [pos.pos_ for pos in doc]\n",
    "    tags = zip(tokens,pos)\n",
    "    tags = list(tags)\n",
    "    ner = [(ner.text,ner.label_) for ner in doc.ents]\n",
    "    print(\"Tokens: \", tokens)\n",
    "    print(\"Tags are: \",tags,'\\n',\"Number of tags: \",len(tags),'\\n',\"NER: \",ner)\n",
    "    displacy.render(doc,style='dep',jupyter=True)\n",
    "    displacy.render(doc,style = 'ent',jupyter=True)\n",
    "    parms_builder()\n",
    "    "
   ]
  },
  {
   "cell_type": "code",
   "execution_count": 9,
   "metadata": {},
   "outputs": [],
   "source": [
    "def parms_builder():\n",
    "    global parms, parms_2\n",
    "    if len(ner) == 1:\n",
    "        if (ner[0][1] == 'GPE') or (ner[0][1] == 'LOC'):\n",
    "            if (ner[0][0] == \"US\") or (ner[0][0] == \"USA\"):\n",
    "                country_ = 'United States'\n",
    "            elif (ner[0][0] == \"UK\"):\n",
    "                country_ = 'United Kingdom'\n",
    "            else:\n",
    "                country = ner[0][0]\n",
    "                parms = {}\n",
    "                parms[\"country\"] = country\n",
    "                print(parms)\n",
    "        elif (ner[0][1] == 'ORG'):\n",
    "            org = ner[0][0]\n",
    "            parms = {}\n",
    "            parms[\"org\"] = org\n",
    "            print(parms)\n",
    "        elif (ner[0][1] == 'PERSON'):\n",
    "            person = ner[0][0]\n",
    "            parms = {}\n",
    "            parms[\"person\"] = person\n",
    "            print(parms)\n",
    "    elif len(ner) > 1:\n",
    "        name1 = ner[0][0]\n",
    "        name2 = ner[1][0]\n",
    "        parms_2 = {\"name1\":name1, \"name2\":name2}\n",
    "        print(parms_2)\n",
    "    query_picker()"
   ]
  },
  {
   "cell_type": "code",
   "execution_count": 14,
   "metadata": {},
   "outputs": [],
   "source": [
    "def query_picker():\n",
    "\n",
    "    label_entity = \"(entity:Entity)\"\n",
    "    label_officer = \"(officer:Officer)\"\n",
    "    label_address = \"(address:Address)\"\n",
    "    label_intermediary = \"(interm:Intermediary)\"\n",
    "\n",
    "    query_sp_officer = \"MATCH (o1:Officer{ name: $name1 }),(o2:Officer{ name: $name2 }), o = shortestPath((o1)-[*..15]-(o2)) RETURN o1.name, o2.name, o\"\n",
    "    query_sp_entity = \"MATCH (e1:Entity{ name: $name1 }),(e2:Entity{ name: $name2 }), e = shortestPath((e1)-[*..15]-(e2)) RETURN e1.name, e2.name, e\"\n",
    "\n",
    "    for token in tokens:\n",
    "        if token in [\"officer\",\"officers\"] and token in ['entity','entities']:\n",
    "            label_1 = label_officer\n",
    "            label_2 = label_entity\n",
    "            relationship_1 = \"-[r:OFFICER_OF]->\"\n",
    "            match_1 = \"MATCH + {} + {} + {}\".format(label_1,relationship_1,label_2)\n",
    "            query_skeleton_1 = match_1 + \" RETURN collect(\" + \"{}\".format(label_1) + \".name), \" + \"({}\".format(label_1) + \".countries), \" + \"({}\".format(label_entity) + \".name) LIMIT 10\" \n",
    "            print(graph.run(query_skeleton_1).to_table())\n",
    "        if token in ['country','countries'] and ['address','addresses']:\n",
    "            label_1 = label_address\n",
    "            match_0 = \"MATCH {}\".format(label_1)\n",
    "            query_skeleton_0 = match_0 + \" RETURN address.countries as Country, address.country_codes as Codes, count(*) AS Count ORDER BY Count DESC LIMIT 15\"\n",
    "            print(graph.run(query_skeleton_0).to_table())\n",
    "        if token in ['jurisdiction','jurisdictions'] and ['connected','related'] and (ner[0][1]=='ORG'):\n",
    "            label_1 = label_officer\n",
    "            label_2 = label_entity\n",
    "            relationship_1 = \"-[]->\"\n",
    "            match_1 = \"MATCH  {}  {}  {}\".format(label_1,relationship_1,label_2)\n",
    "            query_skeleton_1 = match_1 + \" WHERE officer.name contains $org RETURN entity.jurisdiction_description as Juris, count(*) as Number_of_entities ORDER BY Number_of_entities DESC\"\n",
    "            print(query_skeleton_1)\n",
    "            print(graph.run(query_skeleton_1,parms).to_table())\n",
    "        if token in ['connected'] and len(ner) > 1:\n",
    "            print(query_sp,'\\n')\n",
    "            print(graph.run(query_sp,parms_2).to_table())\n",
    "            g = query_sp.get_graph()\n",
    "            x.draw(g)\n",
    "        if token in ['influential','important'] and ['entities']:\n",
    "            label_1 = label_entity\n",
    "            query_page_rank = \"MATCH\" + \"{}\".format(label_1) + \"WHERE exists(entity.pagerank_g) RETURN entity.name AS entity, entity.jurisdiction_description AS jurisdiction, entity.pagerank_g AS pagerank ORDER BY pagerank DESC LIMIT 15\"\n",
    "            print(query_page_rank)\n",
    "            print(graph.run(query_page_rank).to_table())\n",
    "        if token in (all(['come','under']) and ['jurisdiction']):\n",
    "            label_1 = label_entity\n",
    "            match_0 = \"MATCH {}\".format(label_1)\n",
    "            query_skeleton_0 = match_0 + \"WHERE entity.jurisdiction_description CONTAINS $country RETURN collect(distinct entity.countries) as Locations, entity.jurisdiction_description as Jurisdiction limit 10\"\n",
    "            print(query_skeleton_0,'\\n')\n",
    "            print(graph.run(query_skeleton_0,parms).to_table())\n",
    "        if token in ['Under'] and ['jurisdictions']:\n",
    "            label_1 = label_entity\n",
    "            match_0 = \"MATCH {}\".format(label_1)\n",
    "            query_skeleton_0 = match_0 + \"WHERE entity.countries CONTAINS $country RETURN distinct entity.countries as Location, entity.jurisdiction_description as Jurisdiction, collect(entity.name) limit 5\"\n",
    "            print(query_skeleton_0)\n",
    "            print(graph.run(query_skeleton_0,parms).to_table())\n",
    "        if token in (all(['same','address']) and ['officers']):\n",
    "            label_1 = label_officer\n",
    "            label_2 = label_address\n",
    "            relationship_1 = '-[r:REGISTERED_ADDRESS]->'\n",
    "            match_1 = \"MATCH {} {} {}\".format(label_1,relationship_1,label_2)\n",
    "            query = match_1 + \"RETURN collect(officer.name), address.address\"\n",
    "            print(query)\n",
    "            print(graph.run(query).to_table())\n",
    "            "
   ]
  },
  {
   "cell_type": "code",
   "execution_count": 15,
   "metadata": {},
   "outputs": [
    {
     "name": "stdout",
     "output_type": "stream",
     "text": [
      "INPUT: Which locations come under Panama jurisdiction?\n",
      "\n",
      "\n",
      "Tokens:  ['Which', 'locations', 'come', 'under', 'Panama', 'jurisdiction', '?']\n",
      "Tags are:  [('Which', 'DET'), ('locations', 'NOUN'), ('come', 'VERB'), ('under', 'ADP'), ('Panama', 'PROPN'), ('jurisdiction', 'NOUN'), ('?', 'PUNCT')] \n",
      " Number of tags:  7 \n",
      " NER:  [('Panama', 'GPE')]\n"
     ]
    },
    {
     "data": {
      "text/html": [
       "<svg xmlns=\"http://www.w3.org/2000/svg\" xmlns:xlink=\"http://www.w3.org/1999/xlink\" xml:lang=\"en\" id=\"18783d6dfcaf494a82bc1928c67ec10f-0\" class=\"displacy\" width=\"1100\" height=\"312.0\" direction=\"ltr\" style=\"max-width: none; height: 312.0px; color: #000000; background: #ffffff; font-family: Arial; direction: ltr\">\n",
       "<text class=\"displacy-token\" fill=\"currentColor\" text-anchor=\"middle\" y=\"222.0\">\n",
       "    <tspan class=\"displacy-word\" fill=\"currentColor\" x=\"50\">Which</tspan>\n",
       "    <tspan class=\"displacy-tag\" dy=\"2em\" fill=\"currentColor\" x=\"50\">DET</tspan>\n",
       "</text>\n",
       "\n",
       "<text class=\"displacy-token\" fill=\"currentColor\" text-anchor=\"middle\" y=\"222.0\">\n",
       "    <tspan class=\"displacy-word\" fill=\"currentColor\" x=\"225\">locations</tspan>\n",
       "    <tspan class=\"displacy-tag\" dy=\"2em\" fill=\"currentColor\" x=\"225\">NOUN</tspan>\n",
       "</text>\n",
       "\n",
       "<text class=\"displacy-token\" fill=\"currentColor\" text-anchor=\"middle\" y=\"222.0\">\n",
       "    <tspan class=\"displacy-word\" fill=\"currentColor\" x=\"400\">come</tspan>\n",
       "    <tspan class=\"displacy-tag\" dy=\"2em\" fill=\"currentColor\" x=\"400\">VERB</tspan>\n",
       "</text>\n",
       "\n",
       "<text class=\"displacy-token\" fill=\"currentColor\" text-anchor=\"middle\" y=\"222.0\">\n",
       "    <tspan class=\"displacy-word\" fill=\"currentColor\" x=\"575\">under</tspan>\n",
       "    <tspan class=\"displacy-tag\" dy=\"2em\" fill=\"currentColor\" x=\"575\">ADP</tspan>\n",
       "</text>\n",
       "\n",
       "<text class=\"displacy-token\" fill=\"currentColor\" text-anchor=\"middle\" y=\"222.0\">\n",
       "    <tspan class=\"displacy-word\" fill=\"currentColor\" x=\"750\">Panama</tspan>\n",
       "    <tspan class=\"displacy-tag\" dy=\"2em\" fill=\"currentColor\" x=\"750\">PROPN</tspan>\n",
       "</text>\n",
       "\n",
       "<text class=\"displacy-token\" fill=\"currentColor\" text-anchor=\"middle\" y=\"222.0\">\n",
       "    <tspan class=\"displacy-word\" fill=\"currentColor\" x=\"925\">jurisdiction?</tspan>\n",
       "    <tspan class=\"displacy-tag\" dy=\"2em\" fill=\"currentColor\" x=\"925\">NOUN</tspan>\n",
       "</text>\n",
       "\n",
       "<g class=\"displacy-arrow\">\n",
       "    <path class=\"displacy-arc\" id=\"arrow-18783d6dfcaf494a82bc1928c67ec10f-0-0\" stroke-width=\"2px\" d=\"M70,177.0 C70,89.5 220.0,89.5 220.0,177.0\" fill=\"none\" stroke=\"currentColor\"/>\n",
       "    <text dy=\"1.25em\" style=\"font-size: 0.8em; letter-spacing: 1px\">\n",
       "        <textPath xlink:href=\"#arrow-18783d6dfcaf494a82bc1928c67ec10f-0-0\" class=\"displacy-label\" startOffset=\"50%\" side=\"left\" fill=\"currentColor\" text-anchor=\"middle\">det</textPath>\n",
       "    </text>\n",
       "    <path class=\"displacy-arrowhead\" d=\"M70,179.0 L62,167.0 78,167.0\" fill=\"currentColor\"/>\n",
       "</g>\n",
       "\n",
       "<g class=\"displacy-arrow\">\n",
       "    <path class=\"displacy-arc\" id=\"arrow-18783d6dfcaf494a82bc1928c67ec10f-0-1\" stroke-width=\"2px\" d=\"M245,177.0 C245,89.5 395.0,89.5 395.0,177.0\" fill=\"none\" stroke=\"currentColor\"/>\n",
       "    <text dy=\"1.25em\" style=\"font-size: 0.8em; letter-spacing: 1px\">\n",
       "        <textPath xlink:href=\"#arrow-18783d6dfcaf494a82bc1928c67ec10f-0-1\" class=\"displacy-label\" startOffset=\"50%\" side=\"left\" fill=\"currentColor\" text-anchor=\"middle\">nsubj</textPath>\n",
       "    </text>\n",
       "    <path class=\"displacy-arrowhead\" d=\"M245,179.0 L237,167.0 253,167.0\" fill=\"currentColor\"/>\n",
       "</g>\n",
       "\n",
       "<g class=\"displacy-arrow\">\n",
       "    <path class=\"displacy-arc\" id=\"arrow-18783d6dfcaf494a82bc1928c67ec10f-0-2\" stroke-width=\"2px\" d=\"M420,177.0 C420,89.5 570.0,89.5 570.0,177.0\" fill=\"none\" stroke=\"currentColor\"/>\n",
       "    <text dy=\"1.25em\" style=\"font-size: 0.8em; letter-spacing: 1px\">\n",
       "        <textPath xlink:href=\"#arrow-18783d6dfcaf494a82bc1928c67ec10f-0-2\" class=\"displacy-label\" startOffset=\"50%\" side=\"left\" fill=\"currentColor\" text-anchor=\"middle\">prep</textPath>\n",
       "    </text>\n",
       "    <path class=\"displacy-arrowhead\" d=\"M570.0,179.0 L578.0,167.0 562.0,167.0\" fill=\"currentColor\"/>\n",
       "</g>\n",
       "\n",
       "<g class=\"displacy-arrow\">\n",
       "    <path class=\"displacy-arc\" id=\"arrow-18783d6dfcaf494a82bc1928c67ec10f-0-3\" stroke-width=\"2px\" d=\"M770,177.0 C770,89.5 920.0,89.5 920.0,177.0\" fill=\"none\" stroke=\"currentColor\"/>\n",
       "    <text dy=\"1.25em\" style=\"font-size: 0.8em; letter-spacing: 1px\">\n",
       "        <textPath xlink:href=\"#arrow-18783d6dfcaf494a82bc1928c67ec10f-0-3\" class=\"displacy-label\" startOffset=\"50%\" side=\"left\" fill=\"currentColor\" text-anchor=\"middle\">compound</textPath>\n",
       "    </text>\n",
       "    <path class=\"displacy-arrowhead\" d=\"M770,179.0 L762,167.0 778,167.0\" fill=\"currentColor\"/>\n",
       "</g>\n",
       "\n",
       "<g class=\"displacy-arrow\">\n",
       "    <path class=\"displacy-arc\" id=\"arrow-18783d6dfcaf494a82bc1928c67ec10f-0-4\" stroke-width=\"2px\" d=\"M595,177.0 C595,2.0 925.0,2.0 925.0,177.0\" fill=\"none\" stroke=\"currentColor\"/>\n",
       "    <text dy=\"1.25em\" style=\"font-size: 0.8em; letter-spacing: 1px\">\n",
       "        <textPath xlink:href=\"#arrow-18783d6dfcaf494a82bc1928c67ec10f-0-4\" class=\"displacy-label\" startOffset=\"50%\" side=\"left\" fill=\"currentColor\" text-anchor=\"middle\">pobj</textPath>\n",
       "    </text>\n",
       "    <path class=\"displacy-arrowhead\" d=\"M925.0,179.0 L933.0,167.0 917.0,167.0\" fill=\"currentColor\"/>\n",
       "</g>\n",
       "</svg>"
      ],
      "text/plain": [
       "<IPython.core.display.HTML object>"
      ]
     },
     "metadata": {},
     "output_type": "display_data"
    },
    {
     "data": {
      "text/html": [
       "<div class=\"entities\" style=\"line-height: 2.5; direction: ltr\">Which locations come under \n",
       "<mark class=\"entity\" style=\"background: #feca74; padding: 0.45em 0.6em; margin: 0 0.25em; line-height: 1; border-radius: 0.35em; box-decoration-break: clone; -webkit-box-decoration-break: clone\">\n",
       "    Panama\n",
       "    <span style=\"font-size: 0.8em; font-weight: bold; line-height: 1; border-radius: 0.35em; text-transform: uppercase; vertical-align: middle; margin-left: 0.5rem\">GPE</span>\n",
       "</mark>\n",
       " jurisdiction?</div>"
      ],
      "text/plain": [
       "<IPython.core.display.HTML object>"
      ]
     },
     "metadata": {},
     "output_type": "display_data"
    },
    {
     "name": "stdout",
     "output_type": "stream",
     "text": [
      "{'country': 'Panama'}\n",
      "MATCH (entity:Entity)WHERE entity.jurisdiction_description CONTAINS $country RETURN collect(distinct entity.countries) as Locations, entity.jurisdiction_description as Jurisdiction limit 10 \n",
      "\n",
      " Locations                                                                                                                                                                                                                                                                                                                                                                                                                                                                                                                                                                                                                                                                                                                                                                                                                                                                                                                                                                                                                                                                                                                                                                                                                                                                                                                                                                                                                                                                                                                                                                                                                                                                                                                                                                                                                              | Jurisdiction \n",
      "----------------------------------------------------------------------------------------------------------------------------------------------------------------------------------------------------------------------------------------------------------------------------------------------------------------------------------------------------------------------------------------------------------------------------------------------------------------------------------------------------------------------------------------------------------------------------------------------------------------------------------------------------------------------------------------------------------------------------------------------------------------------------------------------------------------------------------------------------------------------------------------------------------------------------------------------------------------------------------------------------------------------------------------------------------------------------------------------------------------------------------------------------------------------------------------------------------------------------------------------------------------------------------------------------------------------------------------------------------------------------------------------------------------------------------------------------------------------------------------------------------------------------------------------------------------------------------------------------------------------------------------------------------------------------------------------------------------------------------------------------------------------------------------------------------------------------------------|--------------\n",
      " ['Jersey', 'Switzerland', 'Denmark', 'Spain', 'Panama', 'Jordan', 'Luxembourg', 'United Kingdom', 'Guernsey', 'Hong Kong', 'Bahamas', 'Germany', 'Mauritius', 'United Arab Emirates', 'Cyprus', 'Liechtenstein', 'Niue', 'Guatemala', 'Isle of Man', 'Monaco', 'Cayman Islands', 'South Africa', 'Malta', \"C\\u00f4te d'Ivoire\", 'Venezuela', 'Singapore', 'France', 'Netherlands', 'Italy', 'Gibraltar', 'United States', 'Canada', 'Greece', 'Saudi Arabia', 'Qatar', 'Peru', 'Israel', 'Bermuda', 'Colombia', 'Australia', 'Brazil', 'Thailand', 'Argentina', 'Japan', 'Andorra', 'Austria', 'Costa Rica', 'Egypt', 'Uruguay', 'Sweden', 'Russia', 'Mexico', 'Belgium', 'Slovenia', 'Ireland', 'Taiwan', 'Philippines', 'Saint Lucia', 'Indonesia', 'Honduras', 'Portugal', 'South Korea', 'Saint Vincent and the Grenadines', 'Kuwait', 'China', 'Ecuador', 'Chile', 'Samoa', 'Zimbabwe', 'Sudan', 'Nicaragua', 'Turks and Caicos Islands', 'Seychelles', 'Belize', 'Paraguay', 'Latvia', 'Hungary', 'Nigeria', 'Czech Republic', 'Ukraine', 'Dominican Republic', 'Kenya', 'British Virgin Islands', 'Turkey', 'Lebanon', 'Estonia', 'Romania', 'Norway', 'Bolivia', 'Lithuania', 'Viet Nam', 'Iran', 'El Salvador', 'Saint Kitts and Nevis', 'Yemen', 'Dominica', 'Malaysia', 'Cuba', 'Bulgaria', 'Antigua and Barbuda', 'Liberia', 'New Zealand', 'Syria', 'Sint Maarten (Dutch part)', 'Belarus', 'Djibouti', 'Barbados', 'Aruba', 'Botswana', 'Finland', 'Croatia', 'Nauru', 'Libya', 'Puerto Rico', 'Montenegro', 'U.S. Virgin Islands', 'Tanzania', 'Bahrain', 'Trinidad and Tobago', 'Cura\\u00e7ao', 'Senegal', 'Vanuatu', 'Poland', 'Morocco', 'India', 'Iceland', 'Tunisia', 'Chad', 'Slovakia', 'Pakistan', 'Panama;Singapore', 'Cayman Islands;Panama', 'Jersey;Panama', 'Liberia;United States', 'Isle of Man;Panama'] | Panama       \n",
      "\n"
     ]
    }
   ],
   "source": [
    "ask_question()"
   ]
  },
  {
   "cell_type": "code",
   "execution_count": null,
   "metadata": {},
   "outputs": [],
   "source": []
  },
  {
   "cell_type": "code",
   "execution_count": null,
   "metadata": {},
   "outputs": [],
   "source": []
  }
 ],
 "metadata": {
  "kernelspec": {
   "display_name": "Python 3",
   "language": "python",
   "name": "python3"
  },
  "language_info": {
   "codemirror_mode": {
    "name": "ipython",
    "version": 3
   },
   "file_extension": ".py",
   "mimetype": "text/x-python",
   "name": "python",
   "nbconvert_exporter": "python",
   "pygments_lexer": "ipython3",
   "version": "3.7.3"
  }
 },
 "nbformat": 4,
 "nbformat_minor": 2
}
